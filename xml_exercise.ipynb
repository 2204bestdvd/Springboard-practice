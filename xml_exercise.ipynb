{
 "cells": [
  {
   "cell_type": "markdown",
   "metadata": {},
   "source": [
    "# XML example and exercise\n",
    "****\n",
    "+ study examples of accessing nodes in XML tree structure  \n",
    "+ work on exercise to be completed and submitted\n",
    "****\n",
    "+ reference: https://docs.python.org/2.7/library/xml.etree.elementtree.html\n",
    "+ data source: http://www.dbis.informatik.uni-goettingen.de/Mondial\n",
    "****"
   ]
  },
  {
   "cell_type": "code",
   "execution_count": 1,
   "metadata": {
    "collapsed": true
   },
   "outputs": [],
   "source": [
    "from xml.etree import ElementTree as ET"
   ]
  },
  {
   "cell_type": "markdown",
   "metadata": {},
   "source": [
    "## XML example\n",
    "\n",
    "+ for details about tree traversal and iterators, see https://docs.python.org/2.7/library/xml.etree.elementtree.html"
   ]
  },
  {
   "cell_type": "code",
   "execution_count": 2,
   "metadata": {
    "collapsed": true
   },
   "outputs": [],
   "source": [
    "document_tree = ET.parse( './data/mondial_database_less.xml' )"
   ]
  },
  {
   "cell_type": "code",
   "execution_count": 3,
   "metadata": {
    "collapsed": false
   },
   "outputs": [
    {
     "name": "stdout",
     "output_type": "stream",
     "text": [
      "Albania\n",
      "Greece\n",
      "Macedonia\n",
      "Serbia\n",
      "Montenegro\n",
      "Kosovo\n",
      "Andorra\n"
     ]
    }
   ],
   "source": [
    "# print names of all countries\n",
    "for child in document_tree.getroot():\n",
    "    print child.find('name').text"
   ]
  },
  {
   "cell_type": "code",
   "execution_count": 4,
   "metadata": {
    "collapsed": false
   },
   "outputs": [
    {
     "name": "stdout",
     "output_type": "stream",
     "text": [
      "* Albania: Tirana, Shkodër, Durrës, Vlorë, Elbasan, Korçë\n",
      "* Greece: Komotini, Kavala, Athina, Peiraias, Peristeri, Acharnes, Patra, Kozani, Kerkyra, Ioannina, Thessaloniki, Iraklio, Chania, Ermoupoli, Rhodes, Tripoli, Lamia, Chalkida, Larissa, Volos, Mytilini, Karyes\n",
      "* Macedonia: Skopje, Kumanovo\n",
      "* Serbia: Beograd, Novi Sad, Niš\n",
      "* Montenegro: Podgorica\n",
      "* Kosovo: Prishtine\n",
      "* Andorra: Andorra la Vella\n"
     ]
    }
   ],
   "source": [
    "# print names of all countries and their cities\n",
    "for element in document_tree.iterfind('country'):\n",
    "    print '* ' + element.find('name').text + ':',\n",
    "    capitals_string = ''\n",
    "    for subelement in element.getiterator('city'):\n",
    "        capitals_string += subelement.find('name').text + ', '\n",
    "    print capitals_string[:-2]"
   ]
  },
  {
   "cell_type": "markdown",
   "metadata": {},
   "source": [
    "****\n",
    "## XML exercise\n",
    "\n",
    "Using data in 'data/mondial_database.xml', the examples above, and refering to https://docs.python.org/2.7/library/xml.etree.elementtree.html, find\n",
    "\n",
    "1. 10 countries with the lowest infant mortality rates\n",
    "2. 10 cities with the largest population\n",
    "3. 10 ethnic groups with the largest overall populations (sum of best/latest estimates over all countries)\n",
    "4. name and country of a) longest river, b) largest lake and c) airport at highest elevation"
   ]
  },
  {
   "cell_type": "code",
   "execution_count": 5,
   "metadata": {
    "collapsed": true
   },
   "outputs": [],
   "source": [
    "document = ET.parse( './data/mondial_database.xml' )"
   ]
  },
  {
   "cell_type": "markdown",
   "metadata": {},
   "source": [
    "## Q1: 10 countries with the lowest infant mortality rates\n",
    "We read the relevant data from the xml file to pandas data frames. We start with the infant mortality rates for each country. In particular, we read the name and the infant mortality of each country in the data into lists, and generate data frames using these lists."
   ]
  },
  {
   "cell_type": "code",
   "execution_count": 6,
   "metadata": {
    "collapsed": true
   },
   "outputs": [],
   "source": [
    "%matplotlib inline\n",
    "import numpy as np\n",
    "import pandas as pd"
   ]
  },
  {
   "cell_type": "code",
   "execution_count": 7,
   "metadata": {
    "collapsed": false
   },
   "outputs": [
    {
     "data": {
      "text/html": [
       "<div>\n",
       "<table border=\"1\" class=\"dataframe\">\n",
       "  <thead>\n",
       "    <tr style=\"text-align: right;\">\n",
       "      <th></th>\n",
       "      <th>country</th>\n",
       "      <th>infant_mortality</th>\n",
       "    </tr>\n",
       "  </thead>\n",
       "  <tbody>\n",
       "    <tr>\n",
       "      <th>38</th>\n",
       "      <td>Monaco</td>\n",
       "      <td>1.81</td>\n",
       "    </tr>\n",
       "    <tr>\n",
       "      <th>98</th>\n",
       "      <td>Japan</td>\n",
       "      <td>2.13</td>\n",
       "    </tr>\n",
       "    <tr>\n",
       "      <th>117</th>\n",
       "      <td>Bermuda</td>\n",
       "      <td>2.48</td>\n",
       "    </tr>\n",
       "    <tr>\n",
       "      <th>36</th>\n",
       "      <td>Norway</td>\n",
       "      <td>2.48</td>\n",
       "    </tr>\n",
       "    <tr>\n",
       "      <th>106</th>\n",
       "      <td>Singapore</td>\n",
       "      <td>2.53</td>\n",
       "    </tr>\n",
       "    <tr>\n",
       "      <th>37</th>\n",
       "      <td>Sweden</td>\n",
       "      <td>2.60</td>\n",
       "    </tr>\n",
       "    <tr>\n",
       "      <th>10</th>\n",
       "      <td>Czech Republic</td>\n",
       "      <td>2.63</td>\n",
       "    </tr>\n",
       "    <tr>\n",
       "      <th>78</th>\n",
       "      <td>Hong Kong</td>\n",
       "      <td>2.73</td>\n",
       "    </tr>\n",
       "    <tr>\n",
       "      <th>79</th>\n",
       "      <td>Macao</td>\n",
       "      <td>3.13</td>\n",
       "    </tr>\n",
       "    <tr>\n",
       "      <th>44</th>\n",
       "      <td>Iceland</td>\n",
       "      <td>3.15</td>\n",
       "    </tr>\n",
       "  </tbody>\n",
       "</table>\n",
       "</div>"
      ],
      "text/plain": [
       "            country  infant_mortality\n",
       "38           Monaco              1.81\n",
       "98            Japan              2.13\n",
       "117         Bermuda              2.48\n",
       "36           Norway              2.48\n",
       "106       Singapore              2.53\n",
       "37           Sweden              2.60\n",
       "10   Czech Republic              2.63\n",
       "78        Hong Kong              2.73\n",
       "79            Macao              3.13\n",
       "44          Iceland              3.15"
      ]
     },
     "execution_count": 7,
     "metadata": {},
     "output_type": "execute_result"
    }
   ],
   "source": [
    "countries = []\n",
    "infant_mortality = []\n",
    "for element in document.iterfind('country'):\n",
    "    countries.append(element.find('name').text)\n",
    "    # In case of missing infant mortality data, fill with NaN\n",
    "    im = element.find('infant_mortality')\n",
    "    im = float(im.text) if im is not None else np.nan\n",
    "    infant_mortality.append(im)\n",
    "df = pd.DataFrame({'country': countries, 'infant_mortality': infant_mortality})\n",
    "df.sort_values(by='infant_mortality', ascending=True).head(10)"
   ]
  },
  {
   "cell_type": "markdown",
   "metadata": {},
   "source": [
    "## Q2: 10 cities with the largest population\n",
    "Similarly, we read in the population of each city into a pandas data frame to process. One caveat here is that the data contains population estimates of different years (for countries and for cities as well), we would like to use the latest estimate."
   ]
  },
  {
   "cell_type": "code",
   "execution_count": 8,
   "metadata": {
    "collapsed": false
   },
   "outputs": [
    {
     "data": {
      "text/html": [
       "<div>\n",
       "<table border=\"1\" class=\"dataframe\">\n",
       "  <thead>\n",
       "    <tr style=\"text-align: right;\">\n",
       "      <th></th>\n",
       "      <th>city</th>\n",
       "      <th>population</th>\n",
       "    </tr>\n",
       "  </thead>\n",
       "  <tbody>\n",
       "    <tr>\n",
       "      <th>1341</th>\n",
       "      <td>Shanghai</td>\n",
       "      <td>22315474.0</td>\n",
       "    </tr>\n",
       "    <tr>\n",
       "      <th>771</th>\n",
       "      <td>Istanbul</td>\n",
       "      <td>13710512.0</td>\n",
       "    </tr>\n",
       "    <tr>\n",
       "      <th>1527</th>\n",
       "      <td>Mumbai</td>\n",
       "      <td>12442373.0</td>\n",
       "    </tr>\n",
       "    <tr>\n",
       "      <th>479</th>\n",
       "      <td>Moskva</td>\n",
       "      <td>11979529.0</td>\n",
       "    </tr>\n",
       "    <tr>\n",
       "      <th>1340</th>\n",
       "      <td>Beijing</td>\n",
       "      <td>11716620.0</td>\n",
       "    </tr>\n",
       "    <tr>\n",
       "      <th>2810</th>\n",
       "      <td>São Paulo</td>\n",
       "      <td>11152344.0</td>\n",
       "    </tr>\n",
       "    <tr>\n",
       "      <th>1342</th>\n",
       "      <td>Tianjin</td>\n",
       "      <td>11090314.0</td>\n",
       "    </tr>\n",
       "    <tr>\n",
       "      <th>1064</th>\n",
       "      <td>Guangzhou</td>\n",
       "      <td>11071424.0</td>\n",
       "    </tr>\n",
       "    <tr>\n",
       "      <th>1582</th>\n",
       "      <td>Delhi</td>\n",
       "      <td>11034555.0</td>\n",
       "    </tr>\n",
       "    <tr>\n",
       "      <th>1067</th>\n",
       "      <td>Shenzhen</td>\n",
       "      <td>10358381.0</td>\n",
       "    </tr>\n",
       "  </tbody>\n",
       "</table>\n",
       "</div>"
      ],
      "text/plain": [
       "           city  population\n",
       "1341   Shanghai  22315474.0\n",
       "771    Istanbul  13710512.0\n",
       "1527     Mumbai  12442373.0\n",
       "479      Moskva  11979529.0\n",
       "1340    Beijing  11716620.0\n",
       "2810  São Paulo  11152344.0\n",
       "1342    Tianjin  11090314.0\n",
       "1064  Guangzhou  11071424.0\n",
       "1582      Delhi  11034555.0\n",
       "1067   Shenzhen  10358381.0"
      ]
     },
     "execution_count": 8,
     "metadata": {},
     "output_type": "execute_result"
    }
   ],
   "source": [
    "cities = []\n",
    "population = []\n",
    "for city in document.iter('city'):\n",
    "    cities.append(city.find('name').text)\n",
    "    # Use the latest population estimate. In case of missing data, fill with NaN\n",
    "    pop = np.nan\n",
    "    ref_year = 0\n",
    "    for p in city.findall('population'):\n",
    "        # update population if it is a later estimate\n",
    "        if p.get('year') > ref_year:\n",
    "            pop = float(p.text)\n",
    "    population.append(pop)\n",
    "\n",
    "df = pd.DataFrame({'city': cities, 'population': population})\n",
    "df.sort_values(by='population', ascending=False).head(10)"
   ]
  },
  {
   "cell_type": "markdown",
   "metadata": {},
   "source": [
    "We may use bar plots to visualize the population differences of the top 20 cities in population."
   ]
  },
  {
   "cell_type": "code",
   "execution_count": 9,
   "metadata": {
    "collapsed": false
   },
   "outputs": [
    {
     "data": {
      "text/plain": [
       "<matplotlib.axes._subplots.AxesSubplot at 0x118bd6fd0>"
      ]
     },
     "execution_count": 9,
     "metadata": {},
     "output_type": "execute_result"
    },
    {
     "data": {
      "image/png": "[encoded data removed]",
      "text/plain": [
       "<matplotlib.figure.Figure at 0x110ae26d0>"
      ]
     },
     "metadata": {},
     "output_type": "display_data"
    }
   ],
   "source": [
    "df.sort_values(by='population', ascending=False).head(20).plot(x='city',y='population',kind='bar')"
   ]
  },
  {
   "cell_type": "markdown",
   "metadata": {},
   "source": [
    "## Q3: 10 ethnic groups with the largest overall populations\n",
    "Since each ethnic group may be spreading in several countries, we need to read the ethnic groups, the percentage, as well as the total population of each country. Based on this data, we may compute the population of each ethnic group in each country. It then remains to sum up the population across countries for each ethnic group."
   ]
  },
  {
   "cell_type": "code",
   "execution_count": 10,
   "metadata": {
    "collapsed": false
   },
   "outputs": [
    {
     "data": {
      "text/plain": [
       "ethnic\n",
       "Han Chinese    1.245059e+09\n",
       "Indo-Aryan     8.718156e+08\n",
       "European       4.948722e+08\n",
       "African        3.183251e+08\n",
       "Dravidian      3.027137e+08\n",
       "Mestizo        1.577344e+08\n",
       "Bengali        1.467769e+08\n",
       "Russian        1.318570e+08\n",
       "Japanese       1.265342e+08\n",
       "Malay          1.219936e+08\n",
       "Name: ethnic_population, dtype: float64"
      ]
     },
     "execution_count": 10,
     "metadata": {},
     "output_type": "execute_result"
    }
   ],
   "source": [
    "countries = []\n",
    "populations = []\n",
    "ethnics = []\n",
    "percentages = []\n",
    "for element in document.iterfind('country'):\n",
    "    country = element.find('name').text\n",
    "    # Use the latest population estimate. In case of missing data, fill with NaN\n",
    "    pop = np.nan\n",
    "    ref_year = 0\n",
    "    for p in element.findall('population'):\n",
    "        # update population if it is a later estimate\n",
    "        if p.get('year') > ref_year:\n",
    "            pop = float(p.text)\n",
    "    \n",
    "    # Insert a row for each ethnic group in a country\n",
    "    for e in element.findall('ethnicgroup'):\n",
    "        countries.append(country)\n",
    "        populations.append(pop)\n",
    "        ethnics.append(e.text)\n",
    "        percentages.append(float(e.get('percentage')))\n",
    "\n",
    "df = pd.DataFrame({'country': countries, 'population': populations, 'ethnic': ethnics, 'percentage':percentages})\n",
    "df['ethnic_population'] = df.percentage * df.population / 100\n",
    "\n",
    "ethnic_population = df.groupby('ethnic')['ethnic_population'].sum()\n",
    "ethnic_population.sort_values(ascending=False).head(10)"
   ]
  },
  {
   "cell_type": "markdown",
   "metadata": {},
   "source": [
    "## Q4\n",
    "Since the countries only appear in forms of codes in the landscape data, we first construct a data frame with the country names and codes for later use."
   ]
  },
  {
   "cell_type": "code",
   "execution_count": 11,
   "metadata": {
    "collapsed": false
   },
   "outputs": [
    {
     "data": {
      "text/html": [
       "<div>\n",
       "<table border=\"1\" class=\"dataframe\">\n",
       "  <thead>\n",
       "    <tr style=\"text-align: right;\">\n",
       "      <th></th>\n",
       "      <th>country</th>\n",
       "      <th>country_code</th>\n",
       "    </tr>\n",
       "  </thead>\n",
       "  <tbody>\n",
       "    <tr>\n",
       "      <th>0</th>\n",
       "      <td>Albania</td>\n",
       "      <td>AL</td>\n",
       "    </tr>\n",
       "    <tr>\n",
       "      <th>1</th>\n",
       "      <td>Greece</td>\n",
       "      <td>GR</td>\n",
       "    </tr>\n",
       "    <tr>\n",
       "      <th>2</th>\n",
       "      <td>Macedonia</td>\n",
       "      <td>MK</td>\n",
       "    </tr>\n",
       "    <tr>\n",
       "      <th>3</th>\n",
       "      <td>Serbia</td>\n",
       "      <td>SRB</td>\n",
       "    </tr>\n",
       "    <tr>\n",
       "      <th>4</th>\n",
       "      <td>Montenegro</td>\n",
       "      <td>MNE</td>\n",
       "    </tr>\n",
       "  </tbody>\n",
       "</table>\n",
       "</div>"
      ],
      "text/plain": [
       "      country country_code\n",
       "0     Albania           AL\n",
       "1      Greece           GR\n",
       "2   Macedonia           MK\n",
       "3      Serbia          SRB\n",
       "4  Montenegro          MNE"
      ]
     },
     "execution_count": 11,
     "metadata": {},
     "output_type": "execute_result"
    }
   ],
   "source": [
    "countries = []\n",
    "country_codes = []\n",
    "# Read country name and code into lists\n",
    "for country in document.iterfind('country'):\n",
    "    countries.append(country.find('name').text)\n",
    "    country_codes.append(country.get('car_code'))\n",
    "df_country = pd.DataFrame({'country': countries, 'country_code': country_codes})\n",
    "df_country.head()"
   ]
  },
  {
   "cell_type": "markdown",
   "metadata": {},
   "source": [
    "### Name and country of the longest river"
   ]
  },
  {
   "cell_type": "code",
   "execution_count": 12,
   "metadata": {
    "collapsed": false
   },
   "outputs": [
    {
     "name": "stdout",
     "output_type": "stream",
     "text": [
      "The longest river is: Amazonas\n",
      "The longest river has length: 6448.0 (km)\n",
      "The longest river is in the following country(ies): Colombia, Brazil, Peru\n"
     ]
    }
   ],
   "source": [
    "rivers = []\n",
    "country_codes = []\n",
    "lengths = []\n",
    "for r in document.iterfind('river'):\n",
    "    rivers.append(r.find('name').text)\n",
    "    # Note that each river may be in more than one country\n",
    "    country_codes.append(r.get('country').split())\n",
    "    l = r.find('length')\n",
    "    l = float(l.text) if l is not None else np.nan\n",
    "    lengths.append(l)\n",
    "    \n",
    "df_river = pd.DataFrame({'river': rivers, 'country_code': country_codes, 'length': lengths})\n",
    "# Get the longest river\n",
    "c = df_river.sort_values(by='length', ascending=False).head(1)\n",
    "# Print out facts about the longest river\n",
    "print \"The longest river is: \" + c.river.iloc[0]\n",
    "print \"The longest river has length: \" + str(c.length.iloc[0]) + \" (km)\"\n",
    "# Print countries according to the country table\n",
    "countries_list = df_country.country[df_country.country_code.isin(c.country_code.iloc[0])].tolist()\n",
    "countries_string = ', '.join(countries_list)\n",
    "print \"The longest river is in the following country(ies): \" + countries_string"
   ]
  },
  {
   "cell_type": "markdown",
   "metadata": {},
   "source": [
    "### Name and country of the largest lake"
   ]
  },
  {
   "cell_type": "code",
   "execution_count": 13,
   "metadata": {
    "collapsed": false
   },
   "outputs": [
    {
     "name": "stdout",
     "output_type": "stream",
     "text": [
      "The largest lake is: Caspian Sea\n",
      "The largest lake has area: 386400.0\n",
      "The largest lake is in the following country(ies): Russia, Iran, Turkmenistan, Azerbaijan, Kazakhstan\n"
     ]
    }
   ],
   "source": [
    "lakes = []\n",
    "country_codes = []\n",
    "areas = []\n",
    "for l in document.iterfind('lake'):\n",
    "    lakes.append(l.find('name').text)\n",
    "    # Note that each lake may be in more than one country\n",
    "    country_codes.append(l.get('country').split())\n",
    "    area = l.find('area')\n",
    "    area = float(area.text) if area is not None else np.nan\n",
    "    areas.append(area)\n",
    "    \n",
    "df_lake = pd.DataFrame({'lake': lakes, 'country_code': country_codes, 'area': areas})\n",
    "# Get the largest lake\n",
    "c = df_lake.sort_values(by='area', ascending=False).head(1)\n",
    "# Print out facts about the largest lake\n",
    "print \"The largest lake is: \" + c.lake.iloc[0]\n",
    "print \"The largest lake has area: \" + str(c.area.iloc[0])\n",
    "# Print countries according to the country table\n",
    "countries_list = df_country.country[df_country.country_code.isin(c.country_code.iloc[0])].tolist()\n",
    "countries_string = ', '.join(countries_list)\n",
    "print \"The largest lake is in the following country(ies): \" + countries_string "
   ]
  },
  {
   "cell_type": "markdown",
   "metadata": {},
   "source": [
    "### Name and country of the airport at the highest elevation"
   ]
  },
  {
   "cell_type": "code",
   "execution_count": 14,
   "metadata": {
    "collapsed": false
   },
   "outputs": [
    {
     "name": "stdout",
     "output_type": "stream",
     "text": [
      "The airport at the highest elevation is: El Alto Intl\n",
      "The elevation of the highest airport is: 4063.0 (km)\n",
      "The airport at the highest elevation is in: Bolivia\n"
     ]
    }
   ],
   "source": [
    "airports = []\n",
    "country_codes = []\n",
    "elevations = []\n",
    "for airport in document.iterfind('airport'):\n",
    "    airports.append(airport.find('name').text)\n",
    "    country_codes.append(airport.get('country'))\n",
    "    e = airport.find('elevation')\n",
    "    elevation = float(e.text) if e is not None and e.text is not None else np.nan\n",
    "    elevations.append(elevation)\n",
    "    \n",
    "df_airport = pd.DataFrame({'airport': airports, 'country_code': country_codes, 'elevation': elevations})\n",
    "c = df_airport.sort_values(by='elevation', ascending=False).head(1)\n",
    "print \"The airport at the highest elevation is: \" + c.airport.iloc[0]\n",
    "print \"The elevation of the highest airport is: \" + str(c.elevation.iloc[0]) + \" (km)\"\n",
    "# Print the country according to the country table\n",
    "print \"The airport at the highest elevation is in: \" + df_country.country[df_country.country_code == c.country_code.iloc[0]].iloc[0]"
   ]
  },
  {
   "cell_type": "code",
   "execution_count": null,
   "metadata": {
    "collapsed": true
   },
   "outputs": [],
   "source": []
  },
  {
   "cell_type": "code",
   "execution_count": null,
   "metadata": {
    "collapsed": true
   },
   "outputs": [],
   "source": []
  }
 ],
 "metadata": {
  "kernelspec": {
   "display_name": "Python 2",
   "language": "python",
   "name": "python2"
  },
  "language_info": {
   "codemirror_mode": {
    "name": "ipython",
    "version": 2
   },
   "file_extension": ".py",
   "mimetype": "text/x-python",
   "name": "python",
   "nbconvert_exporter": "python",
   "pygments_lexer": "ipython2",
   "version": "2.7.13"
  }
 },
 "nbformat": 4,
 "nbformat_minor": 0
}
